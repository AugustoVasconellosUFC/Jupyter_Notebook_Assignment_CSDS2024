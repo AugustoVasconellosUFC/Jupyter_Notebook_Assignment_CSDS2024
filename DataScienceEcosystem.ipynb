{
 "cells": [
  {
   "cell_type": "markdown",
   "id": "56a89853-d756-4a65-aecd-f0f69469bf54",
   "metadata": {},
   "source": [
    "<h1>Data Science Tools and Ecosystem</h1>"
   ]
  },
  {
   "cell_type": "markdown",
   "id": "de57570f-2408-40e5-b3c9-d461c45b079e",
   "metadata": {},
   "source": [
    "In this notebook, Data Science Tools and Ecosystem are summarized."
   ]
  },
  {
   "cell_type": "markdown",
   "id": "0c1b706c-60fc-47ad-a0aa-9d6f87f4ed3c",
   "metadata": {},
   "source": [
    "Some of the popular languages that Data Scientists use are:\n",
    "<ol>\n",
    "    <li>Python</li>\n",
    "    <li>R</li>\n",
    "    <li>SQL</li>\n",
    "</ol>"
   ]
  },
  {
   "cell_type": "markdown",
   "id": "27e93900-6275-4cef-9ad7-4fd5a903cb17",
   "metadata": {},
   "source": [
    "Some of the commonly used libraries used by Data Scientists include:\n",
    "<ol>\n",
    "    <li>Scikitlearn</li>\n",
    "    <li>Matplotlib</li>\n",
    "    <li>Tensorflow</li>\n",
    "</ol>"
   ]
  },
  {
   "cell_type": "markdown",
   "id": "c517816e-46b0-4a98-8c51-a4172412e83c",
   "metadata": {},
   "source": [
    "<table>\n",
    "  <tr>\n",
    "    <th>Data Science Tools</th>\n",
    "  </tr>\n",
    "  <tr>\n",
    "    <td>Jupyter Labs</td>\n",
    "  </tr>\n",
    "  <tr>\n",
    "    <td>Google Colab</td>\n",
    "  </tr>\n",
    "  <tr>\n",
    "    <td>Visual Studio Code</td>\n",
    "  </tr>\n",
    "</table>"
   ]
  },
  {
   "cell_type": "markdown",
   "id": "6fdd9529-0550-435a-8970-13ad3f56acd8",
   "metadata": {},
   "source": [
    "<h3>Below are a few examples of evaluating arithmetic expressions in Python</h3>"
   ]
  },
  {
   "cell_type": "code",
   "execution_count": 9,
   "id": "731777ae-bfad-4495-8334-57568516da7f",
   "metadata": {},
   "outputs": [
    {
     "data": {
      "text/plain": [
       "17"
      ]
     },
     "execution_count": 9,
     "metadata": {},
     "output_type": "execute_result"
    }
   ],
   "source": [
    "#This a simple arithmetic expression to mutiply then add integers\n",
    "(3*4)+5"
   ]
  },
  {
   "cell_type": "code",
   "execution_count": 11,
   "id": "eeffd0db-4fb4-48f4-acd8-92be8dca0819",
   "metadata": {},
   "outputs": [
    {
     "name": "stdout",
     "output_type": "stream",
     "text": [
      "3 hours and 20 minutes\n"
     ]
    }
   ],
   "source": [
    "#This will convert 200 minutes to hours by diving by 60\n",
    "hrs = 200//60\n",
    "min = 200 % 60\n",
    "print(f'{hrs} hours and {min} minutes')"
   ]
  },
  {
   "cell_type": "markdown",
   "id": "a7f6e68b-acae-444b-9675-f84b77601baa",
   "metadata": {},
   "source": [
    "Objectives:\n",
    "<ul>\n",
    "<li>list popular data science languages</li>\n",
    "<li>list popular data science libraries</li>\n",
    "<li>list popular data science developer environments</li>\n",
    "<li>demonstrate basic python code in IPython notebooks</li>\n",
    "</ul>"
   ]
  },
  {
   "cell_type": "markdown",
   "id": "3abc21ae-7842-46bc-bcd7-89eaf167ef7a",
   "metadata": {},
   "source": [
    "<h2>Author</h2>\n",
    "Augusto Vasconcellos Nogueira Diogenes"
   ]
  }
 ],
 "metadata": {
  "kernelspec": {
   "display_name": "Python 3 (ipykernel)",
   "language": "python",
   "name": "python3"
  },
  "language_info": {
   "codemirror_mode": {
    "name": "ipython",
    "version": 3
   },
   "file_extension": ".py",
   "mimetype": "text/x-python",
   "name": "python",
   "nbconvert_exporter": "python",
   "pygments_lexer": "ipython3",
   "version": "3.11.7"
  }
 },
 "nbformat": 4,
 "nbformat_minor": 5
}
